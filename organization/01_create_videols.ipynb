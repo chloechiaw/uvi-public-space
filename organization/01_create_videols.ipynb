{
 "cells": [
  {
   "cell_type": "code",
   "execution_count": 2,
   "id": "5dc03d98-fcd3-4a42-aa05-f23bb4b37900",
   "metadata": {},
   "outputs": [
    {
     "name": "stdout",
     "output_type": "stream",
     "text": [
      "4.6.0\n"
     ]
    }
   ],
   "source": [
    "import glob, os\n",
    "import pandas as pd\n",
    "import cv2\n",
    "import numpy as np\n",
    "from cv2 import __version__\n",
    "print(__version__)\n",
    "rawfolder = \"/lustre1/u/yuanzf/05_WW/_raw/\"\n",
    "# desfolder = \"../_data/_mp4/\"\n",
    "desfolder = \"/lustre1/u/yuanzf/05_WW/_raw/_mp4/bryant_park\"\n",
    "\n",
    "pastfolder = \"/lustre1/u/yuanzf/05_WW/_raw/videos_historical/\" # change your file path to the historical video here\n",
    "imgfolder = \"/lustre1/u/yuanzf/05_WW/_raw/_frame/\""
   ]
  },
  {
   "cell_type": "markdown",
   "id": "2551ce0d-da01-4e91-a39f-0505309fc0f4",
   "metadata": {},
   "source": [
    "# Goal:\n",
    "1. This script summarize the basic list of historical videos of analysis\n",
    "2. Generate sample frames for critical senarios in the video"
   ]
  },
  {
   "cell_type": "code",
   "execution_count": 3,
   "id": "cb430cd0-d31a-44da-bd90-1121bdc38c6f",
   "metadata": {},
   "outputs": [
    {
     "name": "stdout",
     "output_type": "stream",
     "text": [
      "Total videos used for analysis:  58\n"
     ]
    }
   ],
   "source": [
    "past_video_files = os.listdir(pastfolder)\n",
    "print(\"Total videos used for analysis: \", len(past_video_files))"
   ]
  },
  {
   "cell_type": "code",
   "execution_count": 4,
   "id": "e51d052d-2489-4b0d-9722-2fee4085f58f",
   "metadata": {},
   "outputs": [
    {
     "data": {
      "text/html": [
       "<div>\n",
       "<style scoped>\n",
       "    .dataframe tbody tr th:only-of-type {\n",
       "        vertical-align: middle;\n",
       "    }\n",
       "\n",
       "    .dataframe tbody tr th {\n",
       "        vertical-align: top;\n",
       "    }\n",
       "\n",
       "    .dataframe thead th {\n",
       "        text-align: right;\n",
       "    }\n",
       "</style>\n",
       "<table border=\"1\" class=\"dataframe\">\n",
       "  <thead>\n",
       "    <tr style=\"text-align: right;\">\n",
       "      <th></th>\n",
       "      <th>video_file</th>\n",
       "      <th>video_path</th>\n",
       "      <th>video_name</th>\n",
       "    </tr>\n",
       "  </thead>\n",
       "  <tbody>\n",
       "    <tr>\n",
       "      <th>0</th>\n",
       "      <td>B10_G10_Env8_0001.avi</td>\n",
       "      <td>/lustre1/u/yuanzf/05_WW/_raw/videos_historical...</td>\n",
       "      <td>B10_G10_Env8_0001</td>\n",
       "    </tr>\n",
       "    <tr>\n",
       "      <th>1</th>\n",
       "      <td>Box20.21.23_Group12_Env4_0001.avi</td>\n",
       "      <td>/lustre1/u/yuanzf/05_WW/_raw/videos_historical...</td>\n",
       "      <td>Box20.21.23_Group12_Env4_0001</td>\n",
       "    </tr>\n",
       "    <tr>\n",
       "      <th>2</th>\n",
       "      <td>B18_G1_Env15_0001.avi</td>\n",
       "      <td>/lustre1/u/yuanzf/05_WW/_raw/videos_historical...</td>\n",
       "      <td>B18_G1_Env15_0001</td>\n",
       "    </tr>\n",
       "    <tr>\n",
       "      <th>3</th>\n",
       "      <td>B15_G7_Env2_0001.avi</td>\n",
       "      <td>/lustre1/u/yuanzf/05_WW/_raw/videos_historical...</td>\n",
       "      <td>B15_G7_Env2_0001</td>\n",
       "    </tr>\n",
       "    <tr>\n",
       "      <th>4</th>\n",
       "      <td>Box20.21.23_Group25_Env21_0001.avi</td>\n",
       "      <td>/lustre1/u/yuanzf/05_WW/_raw/videos_historical...</td>\n",
       "      <td>Box20.21.23_Group25_Env21_0001</td>\n",
       "    </tr>\n",
       "    <tr>\n",
       "      <th>5</th>\n",
       "      <td>B18_G2_Env1_0002.avi</td>\n",
       "      <td>/lustre1/u/yuanzf/05_WW/_raw/videos_historical...</td>\n",
       "      <td>B18_G2_Env1_0002</td>\n",
       "    </tr>\n",
       "    <tr>\n",
       "      <th>6</th>\n",
       "      <td>B16_G10_Env25_0001.avi</td>\n",
       "      <td>/lustre1/u/yuanzf/05_WW/_raw/videos_historical...</td>\n",
       "      <td>B16_G10_Env25_0001</td>\n",
       "    </tr>\n",
       "    <tr>\n",
       "      <th>7</th>\n",
       "      <td>Box20.21.23_Group12_Env29_0001.avi</td>\n",
       "      <td>/lustre1/u/yuanzf/05_WW/_raw/videos_historical...</td>\n",
       "      <td>Box20.21.23_Group12_Env29_0001</td>\n",
       "    </tr>\n",
       "    <tr>\n",
       "      <th>8</th>\n",
       "      <td>B11_G1_Env23_0001.avi</td>\n",
       "      <td>/lustre1/u/yuanzf/05_WW/_raw/videos_historical...</td>\n",
       "      <td>B11_G1_Env23_0001</td>\n",
       "    </tr>\n",
       "    <tr>\n",
       "      <th>9</th>\n",
       "      <td>Box20.21.23_Group12_Env22_0001.avi</td>\n",
       "      <td>/lustre1/u/yuanzf/05_WW/_raw/videos_historical...</td>\n",
       "      <td>Box20.21.23_Group12_Env22_0001</td>\n",
       "    </tr>\n",
       "    <tr>\n",
       "      <th>10</th>\n",
       "      <td>B16_G10_Env12_0001.avi</td>\n",
       "      <td>/lustre1/u/yuanzf/05_WW/_raw/videos_historical...</td>\n",
       "      <td>B16_G10_Env12_0001</td>\n",
       "    </tr>\n",
       "    <tr>\n",
       "      <th>11</th>\n",
       "      <td>Box20.21.23_Group25_Env50_0001.avi</td>\n",
       "      <td>/lustre1/u/yuanzf/05_WW/_raw/videos_historical...</td>\n",
       "      <td>Box20.21.23_Group25_Env50_0001</td>\n",
       "    </tr>\n",
       "    <tr>\n",
       "      <th>12</th>\n",
       "      <td>B20.21.23_G21_Env2_0001.avi</td>\n",
       "      <td>/lustre1/u/yuanzf/05_WW/_raw/videos_historical...</td>\n",
       "      <td>B20.21.23_G21_Env2_0001</td>\n",
       "    </tr>\n",
       "    <tr>\n",
       "      <th>13</th>\n",
       "      <td>Box20.21.23_Group12_Env3_0001.avi</td>\n",
       "      <td>/lustre1/u/yuanzf/05_WW/_raw/videos_historical...</td>\n",
       "      <td>Box20.21.23_Group12_Env3_0001</td>\n",
       "    </tr>\n",
       "    <tr>\n",
       "      <th>14</th>\n",
       "      <td>Box20.21.23_Group25_Env70_0001.avi</td>\n",
       "      <td>/lustre1/u/yuanzf/05_WW/_raw/videos_historical...</td>\n",
       "      <td>Box20.21.23_Group25_Env70_0001</td>\n",
       "    </tr>\n",
       "    <tr>\n",
       "      <th>15</th>\n",
       "      <td>B9_G7_Env18_0001.avi</td>\n",
       "      <td>/lustre1/u/yuanzf/05_WW/_raw/videos_historical...</td>\n",
       "      <td>B9_G7_Env18_0001</td>\n",
       "    </tr>\n",
       "    <tr>\n",
       "      <th>16</th>\n",
       "      <td>B14_G6_Env5_0001.avi</td>\n",
       "      <td>/lustre1/u/yuanzf/05_WW/_raw/videos_historical...</td>\n",
       "      <td>B14_G6_Env5_0001</td>\n",
       "    </tr>\n",
       "    <tr>\n",
       "      <th>17</th>\n",
       "      <td>B18_G2_Env12_0001.avi</td>\n",
       "      <td>/lustre1/u/yuanzf/05_WW/_raw/videos_historical...</td>\n",
       "      <td>B18_G2_Env12_0001</td>\n",
       "    </tr>\n",
       "    <tr>\n",
       "      <th>18</th>\n",
       "      <td>B10_G2_Env1_0001.avi</td>\n",
       "      <td>/lustre1/u/yuanzf/05_WW/_raw/videos_historical...</td>\n",
       "      <td>B10_G2_Env1_0001</td>\n",
       "    </tr>\n",
       "    <tr>\n",
       "      <th>19</th>\n",
       "      <td>B16_G8_Env5_0001.avi</td>\n",
       "      <td>/lustre1/u/yuanzf/05_WW/_raw/videos_historical...</td>\n",
       "      <td>B16_G8_Env5_0001</td>\n",
       "    </tr>\n",
       "    <tr>\n",
       "      <th>20</th>\n",
       "      <td>Box20.21.23_Group12_Env14_0001.avi</td>\n",
       "      <td>/lustre1/u/yuanzf/05_WW/_raw/videos_historical...</td>\n",
       "      <td>Box20.21.23_Group12_Env14_0001</td>\n",
       "    </tr>\n",
       "    <tr>\n",
       "      <th>21</th>\n",
       "      <td>B16_G8_Env9.avi</td>\n",
       "      <td>/lustre1/u/yuanzf/05_WW/_raw/videos_historical...</td>\n",
       "      <td>B16_G8_Env9</td>\n",
       "    </tr>\n",
       "    <tr>\n",
       "      <th>22</th>\n",
       "      <td>Box20.21.23_Group12_Env33_0001.avi</td>\n",
       "      <td>/lustre1/u/yuanzf/05_WW/_raw/videos_historical...</td>\n",
       "      <td>Box20.21.23_Group12_Env33_0001</td>\n",
       "    </tr>\n",
       "    <tr>\n",
       "      <th>23</th>\n",
       "      <td>Box20.21.23_Group12_Env9_0001.avi</td>\n",
       "      <td>/lustre1/u/yuanzf/05_WW/_raw/videos_historical...</td>\n",
       "      <td>Box20.21.23_Group12_Env9_0001</td>\n",
       "    </tr>\n",
       "    <tr>\n",
       "      <th>24</th>\n",
       "      <td>B16_G9_Env9_0001.avi</td>\n",
       "      <td>/lustre1/u/yuanzf/05_WW/_raw/videos_historical...</td>\n",
       "      <td>B16_G9_Env9_0001</td>\n",
       "    </tr>\n",
       "    <tr>\n",
       "      <th>25</th>\n",
       "      <td>B16_G9_Env7_0001.avi</td>\n",
       "      <td>/lustre1/u/yuanzf/05_WW/_raw/videos_historical...</td>\n",
       "      <td>B16_G9_Env7_0001</td>\n",
       "    </tr>\n",
       "    <tr>\n",
       "      <th>26</th>\n",
       "      <td>Box20.21.23_Group25_Env52_0001.avi</td>\n",
       "      <td>/lustre1/u/yuanzf/05_WW/_raw/videos_historical...</td>\n",
       "      <td>Box20.21.23_Group25_Env52_0001</td>\n",
       "    </tr>\n",
       "    <tr>\n",
       "      <th>27</th>\n",
       "      <td>B24_G2_Env1_0001.avi</td>\n",
       "      <td>/lustre1/u/yuanzf/05_WW/_raw/videos_historical...</td>\n",
       "      <td>B24_G2_Env1_0001</td>\n",
       "    </tr>\n",
       "    <tr>\n",
       "      <th>28</th>\n",
       "      <td>Box20.21.23_Group12_Env8_0001.avi</td>\n",
       "      <td>/lustre1/u/yuanzf/05_WW/_raw/videos_historical...</td>\n",
       "      <td>Box20.21.23_Group12_Env8_0001</td>\n",
       "    </tr>\n",
       "    <tr>\n",
       "      <th>29</th>\n",
       "      <td>B11_G1_Env24_0001.avi</td>\n",
       "      <td>/lustre1/u/yuanzf/05_WW/_raw/videos_historical...</td>\n",
       "      <td>B11_G1_Env24_0001</td>\n",
       "    </tr>\n",
       "    <tr>\n",
       "      <th>30</th>\n",
       "      <td>B10_G2_Env2_0001.avi</td>\n",
       "      <td>/lustre1/u/yuanzf/05_WW/_raw/videos_historical...</td>\n",
       "      <td>B10_G2_Env2_0001</td>\n",
       "    </tr>\n",
       "    <tr>\n",
       "      <th>31</th>\n",
       "      <td>B16_G8_Env3_0001.avi</td>\n",
       "      <td>/lustre1/u/yuanzf/05_WW/_raw/videos_historical...</td>\n",
       "      <td>B16_G8_Env3_0001</td>\n",
       "    </tr>\n",
       "    <tr>\n",
       "      <th>32</th>\n",
       "      <td>Box20.21.23_Group12_Env19_0001.avi</td>\n",
       "      <td>/lustre1/u/yuanzf/05_WW/_raw/videos_historical...</td>\n",
       "      <td>Box20.21.23_Group12_Env19_0001</td>\n",
       "    </tr>\n",
       "    <tr>\n",
       "      <th>33</th>\n",
       "      <td>B9_G7_Env20_0001.avi</td>\n",
       "      <td>/lustre1/u/yuanzf/05_WW/_raw/videos_historical...</td>\n",
       "      <td>B9_G7_Env20_0001</td>\n",
       "    </tr>\n",
       "    <tr>\n",
       "      <th>34</th>\n",
       "      <td>Box20.21.23_Group8_Env41_0001.avi</td>\n",
       "      <td>/lustre1/u/yuanzf/05_WW/_raw/videos_historical...</td>\n",
       "      <td>Box20.21.23_Group8_Env41_0001</td>\n",
       "    </tr>\n",
       "    <tr>\n",
       "      <th>35</th>\n",
       "      <td>B10_G2_Env5_0001.avi</td>\n",
       "      <td>/lustre1/u/yuanzf/05_WW/_raw/videos_historical...</td>\n",
       "      <td>B10_G2_Env5_0001</td>\n",
       "    </tr>\n",
       "    <tr>\n",
       "      <th>36</th>\n",
       "      <td>B18_G2_Env1_0001.avi</td>\n",
       "      <td>/lustre1/u/yuanzf/05_WW/_raw/videos_historical...</td>\n",
       "      <td>B18_G2_Env1_0001</td>\n",
       "    </tr>\n",
       "    <tr>\n",
       "      <th>37</th>\n",
       "      <td>B16_G9_Env11_0001.avi</td>\n",
       "      <td>/lustre1/u/yuanzf/05_WW/_raw/videos_historical...</td>\n",
       "      <td>B16_G9_Env11_0001</td>\n",
       "    </tr>\n",
       "    <tr>\n",
       "      <th>38</th>\n",
       "      <td>Box20.21.23_Group25_Env18_0001.avi</td>\n",
       "      <td>/lustre1/u/yuanzf/05_WW/_raw/videos_historical...</td>\n",
       "      <td>Box20.21.23_Group25_Env18_0001</td>\n",
       "    </tr>\n",
       "    <tr>\n",
       "      <th>39</th>\n",
       "      <td>B2_G7_Env1_0001.avi</td>\n",
       "      <td>/lustre1/u/yuanzf/05_WW/_raw/videos_historical...</td>\n",
       "      <td>B2_G7_Env1_0001</td>\n",
       "    </tr>\n",
       "    <tr>\n",
       "      <th>40</th>\n",
       "      <td>Box20.21.23_Group12_Env36_0001.avi</td>\n",
       "      <td>/lustre1/u/yuanzf/05_WW/_raw/videos_historical...</td>\n",
       "      <td>Box20.21.23_Group12_Env36_0001</td>\n",
       "    </tr>\n",
       "    <tr>\n",
       "      <th>41</th>\n",
       "      <td>B9_G7_Env17_0001.avi</td>\n",
       "      <td>/lustre1/u/yuanzf/05_WW/_raw/videos_historical...</td>\n",
       "      <td>B9_G7_Env17_0001</td>\n",
       "    </tr>\n",
       "    <tr>\n",
       "      <th>42</th>\n",
       "      <td>Box20.21.23_Group12_Env11_0001.avi</td>\n",
       "      <td>/lustre1/u/yuanzf/05_WW/_raw/videos_historical...</td>\n",
       "      <td>Box20.21.23_Group12_Env11_0001</td>\n",
       "    </tr>\n",
       "    <tr>\n",
       "      <th>43</th>\n",
       "      <td>B24_G2_Env24_0001.avi</td>\n",
       "      <td>/lustre1/u/yuanzf/05_WW/_raw/videos_historical...</td>\n",
       "      <td>B24_G2_Env24_0001</td>\n",
       "    </tr>\n",
       "    <tr>\n",
       "      <th>44</th>\n",
       "      <td>Box20.21.23_Group12_Env27_0001.avi</td>\n",
       "      <td>/lustre1/u/yuanzf/05_WW/_raw/videos_historical...</td>\n",
       "      <td>Box20.21.23_Group12_Env27_0001</td>\n",
       "    </tr>\n",
       "    <tr>\n",
       "      <th>45</th>\n",
       "      <td>B16_G9_Env8_0001.avi</td>\n",
       "      <td>/lustre1/u/yuanzf/05_WW/_raw/videos_historical...</td>\n",
       "      <td>B16_G9_Env8_0001</td>\n",
       "    </tr>\n",
       "    <tr>\n",
       "      <th>46</th>\n",
       "      <td>B9_G7_Env19_0001.avi</td>\n",
       "      <td>/lustre1/u/yuanzf/05_WW/_raw/videos_historical...</td>\n",
       "      <td>B9_G7_Env19_0001</td>\n",
       "    </tr>\n",
       "    <tr>\n",
       "      <th>47</th>\n",
       "      <td>Box20.21.23_Group7_Env21_0001.avi</td>\n",
       "      <td>/lustre1/u/yuanzf/05_WW/_raw/videos_historical...</td>\n",
       "      <td>Box20.21.23_Group7_Env21_0001</td>\n",
       "    </tr>\n",
       "    <tr>\n",
       "      <th>48</th>\n",
       "      <td>Box20.21.23_Group12_Env6_0001.avi</td>\n",
       "      <td>/lustre1/u/yuanzf/05_WW/_raw/videos_historical...</td>\n",
       "      <td>Box20.21.23_Group12_Env6_0001</td>\n",
       "    </tr>\n",
       "    <tr>\n",
       "      <th>49</th>\n",
       "      <td>Box20.21.23_Group12_Env45_0001.avi</td>\n",
       "      <td>/lustre1/u/yuanzf/05_WW/_raw/videos_historical...</td>\n",
       "      <td>Box20.21.23_Group12_Env45_0001</td>\n",
       "    </tr>\n",
       "    <tr>\n",
       "      <th>50</th>\n",
       "      <td>Box20.21.23_Group12_Env24_0001.avi</td>\n",
       "      <td>/lustre1/u/yuanzf/05_WW/_raw/videos_historical...</td>\n",
       "      <td>Box20.21.23_Group12_Env24_0001</td>\n",
       "    </tr>\n",
       "    <tr>\n",
       "      <th>51</th>\n",
       "      <td>Box20.21.23_Group12_Env13_0001.avi</td>\n",
       "      <td>/lustre1/u/yuanzf/05_WW/_raw/videos_historical...</td>\n",
       "      <td>Box20.21.23_Group12_Env13_0001</td>\n",
       "    </tr>\n",
       "    <tr>\n",
       "      <th>52</th>\n",
       "      <td>B16_G8_Env2.avi</td>\n",
       "      <td>/lustre1/u/yuanzf/05_WW/_raw/videos_historical...</td>\n",
       "      <td>B16_G8_Env2</td>\n",
       "    </tr>\n",
       "    <tr>\n",
       "      <th>53</th>\n",
       "      <td>Box20.21.23_Group23_Env7_0001.avi</td>\n",
       "      <td>/lustre1/u/yuanzf/05_WW/_raw/videos_historical...</td>\n",
       "      <td>Box20.21.23_Group23_Env7_0001</td>\n",
       "    </tr>\n",
       "    <tr>\n",
       "      <th>54</th>\n",
       "      <td>Box20.21.23_Group12_Env2_0001.avi</td>\n",
       "      <td>/lustre1/u/yuanzf/05_WW/_raw/videos_historical...</td>\n",
       "      <td>Box20.21.23_Group12_Env2_0001</td>\n",
       "    </tr>\n",
       "    <tr>\n",
       "      <th>55</th>\n",
       "      <td>B24_G2_Env54_0001.avi</td>\n",
       "      <td>/lustre1/u/yuanzf/05_WW/_raw/videos_historical...</td>\n",
       "      <td>B24_G2_Env54_0001</td>\n",
       "    </tr>\n",
       "    <tr>\n",
       "      <th>56</th>\n",
       "      <td>Box20.21.23_Group12_Env20_0001.avi</td>\n",
       "      <td>/lustre1/u/yuanzf/05_WW/_raw/videos_historical...</td>\n",
       "      <td>Box20.21.23_Group12_Env20_0001</td>\n",
       "    </tr>\n",
       "    <tr>\n",
       "      <th>57</th>\n",
       "      <td>Box20.21.23_Group25_Env29_0001.avi</td>\n",
       "      <td>/lustre1/u/yuanzf/05_WW/_raw/videos_historical...</td>\n",
       "      <td>Box20.21.23_Group25_Env29_0001</td>\n",
       "    </tr>\n",
       "  </tbody>\n",
       "</table>\n",
       "</div>"
      ],
      "text/plain": [
       "                            video_file  \\\n",
       "0                B10_G10_Env8_0001.avi   \n",
       "1    Box20.21.23_Group12_Env4_0001.avi   \n",
       "2                B18_G1_Env15_0001.avi   \n",
       "3                 B15_G7_Env2_0001.avi   \n",
       "4   Box20.21.23_Group25_Env21_0001.avi   \n",
       "5                 B18_G2_Env1_0002.avi   \n",
       "6               B16_G10_Env25_0001.avi   \n",
       "7   Box20.21.23_Group12_Env29_0001.avi   \n",
       "8                B11_G1_Env23_0001.avi   \n",
       "9   Box20.21.23_Group12_Env22_0001.avi   \n",
       "10              B16_G10_Env12_0001.avi   \n",
       "11  Box20.21.23_Group25_Env50_0001.avi   \n",
       "12         B20.21.23_G21_Env2_0001.avi   \n",
       "13   Box20.21.23_Group12_Env3_0001.avi   \n",
       "14  Box20.21.23_Group25_Env70_0001.avi   \n",
       "15                B9_G7_Env18_0001.avi   \n",
       "16                B14_G6_Env5_0001.avi   \n",
       "17               B18_G2_Env12_0001.avi   \n",
       "18                B10_G2_Env1_0001.avi   \n",
       "19                B16_G8_Env5_0001.avi   \n",
       "20  Box20.21.23_Group12_Env14_0001.avi   \n",
       "21                     B16_G8_Env9.avi   \n",
       "22  Box20.21.23_Group12_Env33_0001.avi   \n",
       "23   Box20.21.23_Group12_Env9_0001.avi   \n",
       "24                B16_G9_Env9_0001.avi   \n",
       "25                B16_G9_Env7_0001.avi   \n",
       "26  Box20.21.23_Group25_Env52_0001.avi   \n",
       "27                B24_G2_Env1_0001.avi   \n",
       "28   Box20.21.23_Group12_Env8_0001.avi   \n",
       "29               B11_G1_Env24_0001.avi   \n",
       "30                B10_G2_Env2_0001.avi   \n",
       "31                B16_G8_Env3_0001.avi   \n",
       "32  Box20.21.23_Group12_Env19_0001.avi   \n",
       "33                B9_G7_Env20_0001.avi   \n",
       "34   Box20.21.23_Group8_Env41_0001.avi   \n",
       "35                B10_G2_Env5_0001.avi   \n",
       "36                B18_G2_Env1_0001.avi   \n",
       "37               B16_G9_Env11_0001.avi   \n",
       "38  Box20.21.23_Group25_Env18_0001.avi   \n",
       "39                 B2_G7_Env1_0001.avi   \n",
       "40  Box20.21.23_Group12_Env36_0001.avi   \n",
       "41                B9_G7_Env17_0001.avi   \n",
       "42  Box20.21.23_Group12_Env11_0001.avi   \n",
       "43               B24_G2_Env24_0001.avi   \n",
       "44  Box20.21.23_Group12_Env27_0001.avi   \n",
       "45                B16_G9_Env8_0001.avi   \n",
       "46                B9_G7_Env19_0001.avi   \n",
       "47   Box20.21.23_Group7_Env21_0001.avi   \n",
       "48   Box20.21.23_Group12_Env6_0001.avi   \n",
       "49  Box20.21.23_Group12_Env45_0001.avi   \n",
       "50  Box20.21.23_Group12_Env24_0001.avi   \n",
       "51  Box20.21.23_Group12_Env13_0001.avi   \n",
       "52                     B16_G8_Env2.avi   \n",
       "53   Box20.21.23_Group23_Env7_0001.avi   \n",
       "54   Box20.21.23_Group12_Env2_0001.avi   \n",
       "55               B24_G2_Env54_0001.avi   \n",
       "56  Box20.21.23_Group12_Env20_0001.avi   \n",
       "57  Box20.21.23_Group25_Env29_0001.avi   \n",
       "\n",
       "                                           video_path  \\\n",
       "0   /lustre1/u/yuanzf/05_WW/_raw/videos_historical...   \n",
       "1   /lustre1/u/yuanzf/05_WW/_raw/videos_historical...   \n",
       "2   /lustre1/u/yuanzf/05_WW/_raw/videos_historical...   \n",
       "3   /lustre1/u/yuanzf/05_WW/_raw/videos_historical...   \n",
       "4   /lustre1/u/yuanzf/05_WW/_raw/videos_historical...   \n",
       "5   /lustre1/u/yuanzf/05_WW/_raw/videos_historical...   \n",
       "6   /lustre1/u/yuanzf/05_WW/_raw/videos_historical...   \n",
       "7   /lustre1/u/yuanzf/05_WW/_raw/videos_historical...   \n",
       "8   /lustre1/u/yuanzf/05_WW/_raw/videos_historical...   \n",
       "9   /lustre1/u/yuanzf/05_WW/_raw/videos_historical...   \n",
       "10  /lustre1/u/yuanzf/05_WW/_raw/videos_historical...   \n",
       "11  /lustre1/u/yuanzf/05_WW/_raw/videos_historical...   \n",
       "12  /lustre1/u/yuanzf/05_WW/_raw/videos_historical...   \n",
       "13  /lustre1/u/yuanzf/05_WW/_raw/videos_historical...   \n",
       "14  /lustre1/u/yuanzf/05_WW/_raw/videos_historical...   \n",
       "15  /lustre1/u/yuanzf/05_WW/_raw/videos_historical...   \n",
       "16  /lustre1/u/yuanzf/05_WW/_raw/videos_historical...   \n",
       "17  /lustre1/u/yuanzf/05_WW/_raw/videos_historical...   \n",
       "18  /lustre1/u/yuanzf/05_WW/_raw/videos_historical...   \n",
       "19  /lustre1/u/yuanzf/05_WW/_raw/videos_historical...   \n",
       "20  /lustre1/u/yuanzf/05_WW/_raw/videos_historical...   \n",
       "21  /lustre1/u/yuanzf/05_WW/_raw/videos_historical...   \n",
       "22  /lustre1/u/yuanzf/05_WW/_raw/videos_historical...   \n",
       "23  /lustre1/u/yuanzf/05_WW/_raw/videos_historical...   \n",
       "24  /lustre1/u/yuanzf/05_WW/_raw/videos_historical...   \n",
       "25  /lustre1/u/yuanzf/05_WW/_raw/videos_historical...   \n",
       "26  /lustre1/u/yuanzf/05_WW/_raw/videos_historical...   \n",
       "27  /lustre1/u/yuanzf/05_WW/_raw/videos_historical...   \n",
       "28  /lustre1/u/yuanzf/05_WW/_raw/videos_historical...   \n",
       "29  /lustre1/u/yuanzf/05_WW/_raw/videos_historical...   \n",
       "30  /lustre1/u/yuanzf/05_WW/_raw/videos_historical...   \n",
       "31  /lustre1/u/yuanzf/05_WW/_raw/videos_historical...   \n",
       "32  /lustre1/u/yuanzf/05_WW/_raw/videos_historical...   \n",
       "33  /lustre1/u/yuanzf/05_WW/_raw/videos_historical...   \n",
       "34  /lustre1/u/yuanzf/05_WW/_raw/videos_historical...   \n",
       "35  /lustre1/u/yuanzf/05_WW/_raw/videos_historical...   \n",
       "36  /lustre1/u/yuanzf/05_WW/_raw/videos_historical...   \n",
       "37  /lustre1/u/yuanzf/05_WW/_raw/videos_historical...   \n",
       "38  /lustre1/u/yuanzf/05_WW/_raw/videos_historical...   \n",
       "39  /lustre1/u/yuanzf/05_WW/_raw/videos_historical...   \n",
       "40  /lustre1/u/yuanzf/05_WW/_raw/videos_historical...   \n",
       "41  /lustre1/u/yuanzf/05_WW/_raw/videos_historical...   \n",
       "42  /lustre1/u/yuanzf/05_WW/_raw/videos_historical...   \n",
       "43  /lustre1/u/yuanzf/05_WW/_raw/videos_historical...   \n",
       "44  /lustre1/u/yuanzf/05_WW/_raw/videos_historical...   \n",
       "45  /lustre1/u/yuanzf/05_WW/_raw/videos_historical...   \n",
       "46  /lustre1/u/yuanzf/05_WW/_raw/videos_historical...   \n",
       "47  /lustre1/u/yuanzf/05_WW/_raw/videos_historical...   \n",
       "48  /lustre1/u/yuanzf/05_WW/_raw/videos_historical...   \n",
       "49  /lustre1/u/yuanzf/05_WW/_raw/videos_historical...   \n",
       "50  /lustre1/u/yuanzf/05_WW/_raw/videos_historical...   \n",
       "51  /lustre1/u/yuanzf/05_WW/_raw/videos_historical...   \n",
       "52  /lustre1/u/yuanzf/05_WW/_raw/videos_historical...   \n",
       "53  /lustre1/u/yuanzf/05_WW/_raw/videos_historical...   \n",
       "54  /lustre1/u/yuanzf/05_WW/_raw/videos_historical...   \n",
       "55  /lustre1/u/yuanzf/05_WW/_raw/videos_historical...   \n",
       "56  /lustre1/u/yuanzf/05_WW/_raw/videos_historical...   \n",
       "57  /lustre1/u/yuanzf/05_WW/_raw/videos_historical...   \n",
       "\n",
       "                        video_name  \n",
       "0                B10_G10_Env8_0001  \n",
       "1    Box20.21.23_Group12_Env4_0001  \n",
       "2                B18_G1_Env15_0001  \n",
       "3                 B15_G7_Env2_0001  \n",
       "4   Box20.21.23_Group25_Env21_0001  \n",
       "5                 B18_G2_Env1_0002  \n",
       "6               B16_G10_Env25_0001  \n",
       "7   Box20.21.23_Group12_Env29_0001  \n",
       "8                B11_G1_Env23_0001  \n",
       "9   Box20.21.23_Group12_Env22_0001  \n",
       "10              B16_G10_Env12_0001  \n",
       "11  Box20.21.23_Group25_Env50_0001  \n",
       "12         B20.21.23_G21_Env2_0001  \n",
       "13   Box20.21.23_Group12_Env3_0001  \n",
       "14  Box20.21.23_Group25_Env70_0001  \n",
       "15                B9_G7_Env18_0001  \n",
       "16                B14_G6_Env5_0001  \n",
       "17               B18_G2_Env12_0001  \n",
       "18                B10_G2_Env1_0001  \n",
       "19                B16_G8_Env5_0001  \n",
       "20  Box20.21.23_Group12_Env14_0001  \n",
       "21                     B16_G8_Env9  \n",
       "22  Box20.21.23_Group12_Env33_0001  \n",
       "23   Box20.21.23_Group12_Env9_0001  \n",
       "24                B16_G9_Env9_0001  \n",
       "25                B16_G9_Env7_0001  \n",
       "26  Box20.21.23_Group25_Env52_0001  \n",
       "27                B24_G2_Env1_0001  \n",
       "28   Box20.21.23_Group12_Env8_0001  \n",
       "29               B11_G1_Env24_0001  \n",
       "30                B10_G2_Env2_0001  \n",
       "31                B16_G8_Env3_0001  \n",
       "32  Box20.21.23_Group12_Env19_0001  \n",
       "33                B9_G7_Env20_0001  \n",
       "34   Box20.21.23_Group8_Env41_0001  \n",
       "35                B10_G2_Env5_0001  \n",
       "36                B18_G2_Env1_0001  \n",
       "37               B16_G9_Env11_0001  \n",
       "38  Box20.21.23_Group25_Env18_0001  \n",
       "39                 B2_G7_Env1_0001  \n",
       "40  Box20.21.23_Group12_Env36_0001  \n",
       "41                B9_G7_Env17_0001  \n",
       "42  Box20.21.23_Group12_Env11_0001  \n",
       "43               B24_G2_Env24_0001  \n",
       "44  Box20.21.23_Group12_Env27_0001  \n",
       "45                B16_G9_Env8_0001  \n",
       "46                B9_G7_Env19_0001  \n",
       "47   Box20.21.23_Group7_Env21_0001  \n",
       "48   Box20.21.23_Group12_Env6_0001  \n",
       "49  Box20.21.23_Group12_Env45_0001  \n",
       "50  Box20.21.23_Group12_Env24_0001  \n",
       "51  Box20.21.23_Group12_Env13_0001  \n",
       "52                     B16_G8_Env2  \n",
       "53   Box20.21.23_Group23_Env7_0001  \n",
       "54   Box20.21.23_Group12_Env2_0001  \n",
       "55               B24_G2_Env54_0001  \n",
       "56  Box20.21.23_Group12_Env20_0001  \n",
       "57  Box20.21.23_Group25_Env29_0001  "
      ]
     },
     "execution_count": 4,
     "metadata": {},
     "output_type": "execute_result"
    }
   ],
   "source": [
    "videodf = pd.DataFrame({\n",
    "    \"video_file\": past_video_files,\n",
    "    \"video_path\":[pastfolder+x for x in past_video_files],\n",
    "    \"video_name\" :[x[:-4] for x in past_video_files]\n",
    "})\n",
    "videodf"
   ]
  },
  {
   "cell_type": "markdown",
   "id": "fba61cad-1ce9-4d75-9ce8-a25c56bae372",
   "metadata": {},
   "source": [
    "## Generate basic information for each video and select sample images "
   ]
  },
  {
   "cell_type": "code",
   "execution_count": 5,
   "id": "70f4b1f3-3a59-4ee3-942c-529d7e72c8b4",
   "metadata": {
    "collapsed": true,
    "jupyter": {
     "outputs_hidden": true
    },
    "tags": []
   },
   "outputs": [
    {
     "name": "stderr",
     "output_type": "stream",
     "text": [
      "3it [00:00,  4.44it/s]"
     ]
    },
    {
     "name": "stdout",
     "output_type": "stream",
     "text": [
      "frames per second = 29.97002997002997\n",
      "frames size = (720, 480)\n",
      "frames per second = 29.97002997002997\n",
      "frames size = (720, 480)\n",
      "Finished 1\n",
      "frames per second = 29.97002997002997\n",
      "frames size = (720, 480)\n"
     ]
    },
    {
     "name": "stderr",
     "output_type": "stream",
     "text": [
      "5it [00:01,  5.98it/s]"
     ]
    },
    {
     "name": "stdout",
     "output_type": "stream",
     "text": [
      "frames per second = 29.97002997002997\n",
      "frames size = (720, 480)\n",
      "frames per second = 29.97002997002997\n",
      "frames size = (720, 480)\n",
      "frames per second = 29.97002997002997\n",
      "frames size = (720, 480)\n",
      "frames per second = 29.97002997002997\n",
      "frames size = (720, 480)\n"
     ]
    },
    {
     "name": "stderr",
     "output_type": "stream",
     "text": [
      "10it [00:01,  6.70it/s]"
     ]
    },
    {
     "name": "stdout",
     "output_type": "stream",
     "text": [
      "frames per second = 29.97002997002997\n",
      "frames size = (720, 480)\n",
      "frames per second = 29.97002997002997\n",
      "frames size = (720, 480)\n",
      "frames per second = 29.97002997002997\n",
      "frames size = (720, 480)\n"
     ]
    },
    {
     "name": "stderr",
     "output_type": "stream",
     "text": [
      "12it [00:01,  7.93it/s]"
     ]
    },
    {
     "name": "stdout",
     "output_type": "stream",
     "text": [
      "frames per second = 29.97002997002997\n",
      "frames size = (720, 480)\n",
      "frames per second = 29.97002997002997\n",
      "frames size = (720, 480)\n",
      "frames per second = 29.97002997002997\n",
      "frames size = (720, 480)\n"
     ]
    },
    {
     "name": "stderr",
     "output_type": "stream",
     "text": [
      "14it [00:02,  8.92it/s]"
     ]
    },
    {
     "name": "stdout",
     "output_type": "stream",
     "text": [
      "frames per second = 29.97002997002997\n",
      "frames size = (720, 480)\n",
      "frames per second = 29.97002997002997\n",
      "frames size = (720, 480)\n"
     ]
    },
    {
     "name": "stderr",
     "output_type": "stream",
     "text": [
      "16it [00:02,  8.84it/s]"
     ]
    },
    {
     "name": "stdout",
     "output_type": "stream",
     "text": [
      "frames per second = 29.97002997002997\n",
      "frames size = (720, 480)\n",
      "frames per second = 29.97002997002997\n",
      "frames size = (720, 480)\n",
      "frames per second = 29.97002997002997\n",
      "frames size = (720, 480)\n"
     ]
    },
    {
     "name": "stderr",
     "output_type": "stream",
     "text": [
      "20it [00:02, 10.09it/s]"
     ]
    },
    {
     "name": "stdout",
     "output_type": "stream",
     "text": [
      "frames per second = 29.97002997002997\n",
      "frames size = (720, 480)\n",
      "frames per second = 29.97002997002997\n",
      "frames size = (720, 480)\n",
      "frames per second = 29.97002997002997\n",
      "frames size = (720, 480)\n"
     ]
    },
    {
     "name": "stderr",
     "output_type": "stream",
     "text": [
      "24it [00:03, 10.99it/s]"
     ]
    },
    {
     "name": "stdout",
     "output_type": "stream",
     "text": [
      "frames per second = 29.97002997002997\n",
      "frames size = (720, 480)\n",
      "frames per second = 29.97002997002997\n",
      "frames size = (720, 480)\n",
      "frames per second = 29.97002997002997\n",
      "frames size = (720, 480)\n"
     ]
    },
    {
     "name": "stderr",
     "output_type": "stream",
     "text": [
      "26it [00:03, 10.59it/s]"
     ]
    },
    {
     "name": "stdout",
     "output_type": "stream",
     "text": [
      "frames per second = 29.97002997002997\n",
      "frames size = (720, 480)\n",
      "frames per second = 29.97002997002997\n",
      "frames size = (720, 480)\n",
      "frames per second = 29.97002997002997\n",
      "frames size = (720, 480)\n"
     ]
    },
    {
     "name": "stderr",
     "output_type": "stream",
     "text": [
      "28it [00:03, 11.36it/s]"
     ]
    },
    {
     "name": "stdout",
     "output_type": "stream",
     "text": [
      "frames per second = 29.97002997002997\n",
      "frames size = (720, 480)\n",
      "frames per second = 29.97002997002997\n",
      "frames size = (720, 480)\n",
      "frames per second = 29.97002997002997\n",
      "frames size = (720, 480)\n"
     ]
    },
    {
     "name": "stderr",
     "output_type": "stream",
     "text": [
      "32it [00:06,  3.04it/s]"
     ]
    },
    {
     "name": "stdout",
     "output_type": "stream",
     "text": [
      "frames per second = 29.97002997002997\n",
      "frames size = (720, 480)\n",
      "frames per second = 29.97002997002997\n",
      "frames size = (720, 480)\n",
      "frames per second = 29.97002997002997\n",
      "frames size = (720, 480)\n"
     ]
    },
    {
     "name": "stderr",
     "output_type": "stream",
     "text": [
      "36it [00:06,  4.55it/s]"
     ]
    },
    {
     "name": "stdout",
     "output_type": "stream",
     "text": [
      "frames per second = 29.97002997002997\n",
      "frames size = (720, 480)\n",
      "frames per second = 29.97002997002997\n",
      "frames size = (720, 480)\n",
      "frames per second = 29.97002997002997\n",
      "frames size = (720, 480)\n"
     ]
    },
    {
     "name": "stderr",
     "output_type": "stream",
     "text": [
      "37it [00:07,  3.41it/s]"
     ]
    },
    {
     "name": "stdout",
     "output_type": "stream",
     "text": [
      "frames per second = 29.97002997002997\n",
      "frames size = (720, 480)\n",
      "frames per second = 29.97002997002997\n",
      "frames size = (720, 480)\n"
     ]
    },
    {
     "name": "stderr",
     "output_type": "stream",
     "text": [
      "40it [00:07,  4.63it/s]"
     ]
    },
    {
     "name": "stdout",
     "output_type": "stream",
     "text": [
      "frames per second = 29.97002997002997\n",
      "frames size = (720, 480)\n",
      "frames per second = 29.97002997002997\n",
      "frames size = (720, 480)\n"
     ]
    },
    {
     "name": "stderr",
     "output_type": "stream",
     "text": [
      "42it [00:07,  5.96it/s]"
     ]
    },
    {
     "name": "stdout",
     "output_type": "stream",
     "text": [
      "frames per second = 29.97002997002997\n",
      "frames size = (720, 480)\n",
      "frames per second = 29.97002997002997\n",
      "frames size = (720, 480)\n",
      "frames per second = 29.97002997002997\n",
      "frames size = (720, 480)\n"
     ]
    },
    {
     "name": "stderr",
     "output_type": "stream",
     "text": [
      "45it [00:08,  7.38it/s]"
     ]
    },
    {
     "name": "stdout",
     "output_type": "stream",
     "text": [
      "frames per second = 29.97002997002997\n",
      "frames size = (720, 480)\n",
      "frames per second = 29.97002997002997\n",
      "frames size = (720, 480)\n",
      "frames per second = 29.97002997002997\n",
      "frames size = (720, 480)\n"
     ]
    },
    {
     "name": "stderr",
     "output_type": "stream",
     "text": [
      "49it [00:08, 10.19it/s]"
     ]
    },
    {
     "name": "stdout",
     "output_type": "stream",
     "text": [
      "frames per second = 29.97002997002997\n",
      "frames size = (720, 480)\n",
      "frames per second = 29.97002997002997\n",
      "frames size = (720, 480)\n",
      "frames per second = 29.97002997002997\n",
      "frames size = (720, 480)\n"
     ]
    },
    {
     "name": "stderr",
     "output_type": "stream",
     "text": [
      "51it [00:08, 10.42it/s]"
     ]
    },
    {
     "name": "stdout",
     "output_type": "stream",
     "text": [
      "frames per second = 29.97002997002997\n",
      "frames size = (720, 480)\n",
      "frames per second = 29.97002997002997\n",
      "frames size = (720, 480)\n",
      "frames per second = 29.97002997002997\n",
      "frames size = (720, 480)\n",
      "Finished 51\n"
     ]
    },
    {
     "name": "stderr",
     "output_type": "stream",
     "text": [
      "55it [00:08, 11.71it/s]"
     ]
    },
    {
     "name": "stdout",
     "output_type": "stream",
     "text": [
      "frames per second = 29.97002997002997\n",
      "frames size = (720, 480)\n",
      "frames per second = 29.97002997002997\n",
      "frames size = (720, 480)\n",
      "frames per second = 29.97002997002997\n",
      "frames size = (720, 480)\n"
     ]
    },
    {
     "name": "stderr",
     "output_type": "stream",
     "text": [
      "58it [00:09,  6.28it/s]"
     ]
    },
    {
     "name": "stdout",
     "output_type": "stream",
     "text": [
      "frames per second = 29.97002997002997\n",
      "frames size = (720, 480)\n",
      "frames per second = 29.97002997002997\n",
      "frames size = (720, 480)\n",
      "frames per second = 29.97002997002997\n",
      "frames size = (720, 480)\n"
     ]
    },
    {
     "name": "stderr",
     "output_type": "stream",
     "text": [
      "\n"
     ]
    }
   ],
   "source": [
    "from tqdm import tqdm\n",
    "def getbasics(file_path):\n",
    "    video = cv2.VideoCapture(file_path)\n",
    "    fps = video.get(cv2.CAP_PROP_FPS)\n",
    "    print('frames per second =',fps)\n",
    "    size = (int(video.get(cv2.CAP_PROP_FRAME_WIDTH)), int(video.get(cv2.CAP_PROP_FRAME_HEIGHT)))\n",
    "    \n",
    "    length = int(video.get(cv2.CAP_PROP_FRAME_COUNT))\n",
    "    print('frames size =',size)\n",
    "    # video.release()\n",
    "    return video, fps, size, length\n",
    "\n",
    "for i, row in tqdm(videodf.iterrows()):\n",
    "    # try:\n",
    "    file_path = videodf.at[i, \"video_path\"]\n",
    "    video, fps, size, length = getbasics(file_path)\n",
    "    videodf.at[i, \"fps\"] = round(fps)\n",
    "    videodf.at[i,\"totalseconds\"] = length\n",
    "    videodf.at[i, \"w\"] = size[0]\n",
    "    videodf.at[i, \"h\"] = size[1]\n",
    "    name = videodf.at[i, \"video_name\"]\n",
    "    \n",
    "    ### ================================Here select sample frame at second and minute ================================\n",
    "    \"\"\"\n",
    "    for each video, if we know which second/ minute we want to extract a frame, we can revise the following script to do so.\n",
    "    Noted that all videos need to be rotate then flipped. See code below. One frame per senario is good enough.\n",
    "    \"\"\"\n",
    "    # set from the 30 second as the first second is not the video\n",
    "#     second_start = 55\n",
    "#     minute_start = 0\n",
    "#     first_frame = int(fps*(minute_start*60 + second_start))\n",
    "\n",
    "#     video.set(cv2.CAP_PROP_POS_FRAMES, first_frame)\n",
    "\n",
    "#     success = True\n",
    "#     while success:     \n",
    "#         success, image = video.read()\n",
    "#         image = cv2.rotate(image, cv2.ROTATE_180) \n",
    "#         image = cv2.flip(image, 1)\n",
    "#         try:\n",
    "#             cv2.imwrite(os.path.join(sample_path, f\"{name}_{first_frame}.jpg\"), image)\n",
    "#             # save frame as JPEG file \n",
    "#             break\n",
    "#         except:\n",
    "#             first_frame += 1\n",
    "#             print(\"first frame not working\")\n",
    "\n",
    "    if i%50 == 1:\n",
    "        print(f\"Finished {i}\")"
   ]
  },
  {
   "cell_type": "code",
   "execution_count": null,
   "id": "8961fd4c-2b50-47d9-ac2c-a85d5c8a9572",
   "metadata": {},
   "outputs": [],
   "source": []
  }
 ],
 "metadata": {
  "kernelspec": {
   "display_name": "video_augment",
   "language": "python",
   "name": "video_augment"
  },
  "language_info": {
   "codemirror_mode": {
    "name": "ipython",
    "version": 3
   },
   "file_extension": ".py",
   "mimetype": "text/x-python",
   "name": "python",
   "nbconvert_exporter": "python",
   "pygments_lexer": "ipython3",
   "version": "3.8.13"
  }
 },
 "nbformat": 4,
 "nbformat_minor": 5
}
