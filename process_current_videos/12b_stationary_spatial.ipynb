{
 "cells": [
  {
   "cell_type": "code",
   "execution_count": null,
   "metadata": {},
   "outputs": [],
   "source": [
    "from h3 import h3\n",
    "import numpy as np\n",
    "import cv2\n",
    "import glob\n",
    "from matplotlib import pyplot as plt\n",
    "import os\n",
    "import pandas as pd\n",
    "from osgeo import gdal\n",
    "from osgeo import osr\n",
    "import geopandas as gpd\n",
    "from shapely.geometry import Point, Polygon, LineString\n",
    "# seaborn stacked bar plot per frame the stationary and moving people\n",
    "import seaborn as sns\n",
    "import matplotlib.ticker as mtick\n",
    "def imshow(image, show_axes = False, quiet = False):\n",
    "    if len(image.shape) == 3:\n",
    "      # Height, width, channels\n",
    "      # Assume BGR, do a conversion since \n",
    "      image = cv2.cvtColor(image, cv2.COLOR_BGR2RGB)\n",
    "    else:\n",
    "      # Height, width - must be grayscale\n",
    "      # convert to RGB, since matplotlib will plot in a weird colormap (instead of black = 0, white = 1)\n",
    "      image = cv2.cvtColor(image, cv2.COLOR_GRAY2RGB)\n",
    "    # Draw the image\n",
    "    plt.imshow(image)\n",
    "    if not show_axes:\n",
    "        # We'll also disable drawing the axes and tick marks in the plot, since it's actually an image\n",
    "        plt.axis('off')\n",
    "    if not quiet:\n",
    "        # Make sure it outputs\n",
    "        plt.show()"
   ]
  },
  {
   "cell_type": "code",
   "execution_count": null,
   "metadata": {},
   "outputs": [],
   "source": [
    "from tqdm import tqdm\n",
    "outputfolder = \"../data/05_tracking_result_projected/step0_attr_prj\"\n",
    "\n",
    "\n",
    "def get_frame_num(time_str, fps = 29.97002997002997):\n",
    "    try:\n",
    "        time = time_str.split(\" \")[0][3:].split(\":\")\n",
    "        minute = int(time[0])\n",
    "        second = int(time[1])\n",
    "        frame = minute*60*fps + second*fps\n",
    "        return int(frame)\n",
    "    except:\n",
    "        return 0\n",
    "    \n",
    "# aggregate unique number of people appeared for each frame on a time series\n",
    "# load a sample video first\n",
    "def load_video(videoname):\n",
    "\n",
    "    loc_name = videopath_sel[videopath_sel['video_id']==videoname]['video_location'].values[0]\n",
    "    video_start_frame = videopath_sel[videopath_sel['video_id']==videoname]['frame_start'].values[0]\n",
    "    video_start_at = videopath_sel[videopath_sel['video_id']==videoname]['video_section_started_at'].values[0]\n",
    "    video_group = videopath_sel[videopath_sel['video_id']==videoname]['video_group'].values[0]\n",
    "\n",
    "    destfolder = os.path.join(outputfolder, loc_name)\n",
    "    traceGDF = pd.read_csv(os.path.join(destfolder, f\"{videoname}_projected.csv\"))\n",
    "    traceGDF = traceGDF[traceGDF['frame_id']>video_start_frame].reset_index(drop = True)\n",
    "    traceGDF['timestamp'] = video_start_at + traceGDF['frame_id'].apply(lambda x: pd.Timedelta(seconds = x/29.97))\n",
    "    traceGDF['video_group'] = video_group\n",
    "    traceGDF['videoname'] = videoname\n",
    "    \n",
    "    \n",
    "    return traceGDF\n",
    "\n",
    "# drop the outlier speed\n",
    "def find_outliers_IQR(df, field):\n",
    "\n",
    "   q1=df[field].quantile(0.25)\n",
    "\n",
    "   q3=df[field].quantile(0.75)\n",
    "\n",
    "   IQR=q3-q1\n",
    "\n",
    "   outliers = df[((df[field]<(q1-1.5*IQR)) | (df[field]>(q3+1.5*IQR)))]\n",
    "\n",
    "   keep = df[((df[field]>=(q1-1.5*IQR)) & (df[field]<=(q3+1.5*IQR)))]\n",
    "\n",
    "   return outliers, keep"
   ]
  },
  {
   "cell_type": "code",
   "execution_count": null,
   "metadata": {},
   "outputs": [],
   "source": [
    "videopath = pd.read_csv(\"../../_data/00_raw/_video_meta/video_path_0509.csv\")\n",
    "videopath['video_id'] = videopath['video_name'].apply(lambda x: x.split(\".\")[0])\n",
    "\n",
    "# videopath_sel = videopath[videopath['scene'].isin([2,3])]\n",
    "videopath_sel = videopath[~videopath['ref_path'].isna()].reset_index(drop = True)\n",
    "videopath_sel['first_effective_time'].unique()\n",
    "videopath_sel['first_effective_time'] = videopath_sel['first_effective_time'].fillna(\"12:00:00 AM\")\n",
    "videopath_sel['frame_start'] = videopath_sel['first_effective_time'].apply(lambda x: get_frame_num(x))\n",
    "videopath_sel['frame_end'] = videopath_sel['last_effective_time'].apply(lambda x: get_frame_num(x))\n",
    "videopath_sel['frame_end'] = videopath_sel['frame_end'].fillna(videopath_sel['length'])\n",
    "videopath_sel['ref_epsg'] = videopath_sel['ref_epsg'].astype(int)\n",
    "videopath_sel['video_date'] = videopath_sel['video_group_started_at'].apply(lambda x: x.split(\" \")[0])\n",
    "videopath_sel['video_section_started_at'] = pd.to_datetime(videopath_sel['video_date']+ \" \" +videopath_sel['video_section_started_at'])\n",
    "videopath_sel['video_group_update'] = videopath_sel['video_location']+\"-\"+videopath_sel['video_group']\n",
    "videols = videopath_sel['video_id'].unique().tolist()\n",
    "videopath_sel['video_group_update'] = videopath_sel['video_location']+\"-\"+videopath_sel['video_group']"
   ]
  },
  {
   "cell_type": "code",
   "execution_count": null,
   "metadata": {},
   "outputs": [],
   "source": [
    "\n",
    "def get_alltrace(selvideogroup, n = 1, res = 15):\n",
    "    selpath = videopath_sel[videopath_sel['video_group_update']==selvideogroup].reset_index(drop = True)\n",
    "    fulldf = []\n",
    "    for videoname in tqdm(selpath['video_name'].unique()):\n",
    "        try:\n",
    "            traceDF = pd.read_csv(os.path.join(stagingfolder, videoname[:-4]+\".csv\"))\n",
    "            traceGDF = gpd.GeoDataFrame(traceDF, geometry=gpd.points_from_xy(traceDF.lon, traceDF.lat))\n",
    "            traceGDF.crs = \"EPSG:4326\"\n",
    "            traceGDF.to_crs(epsg=3857, inplace=True)\n",
    "            threshold_ls  = [0.1, 0.2, 0.3, 0.4, 0.5]\n",
    "            traceGDF[f'h3_{res}'] = traceGDF.apply(lambda row: h3.geo_to_h3(row['lat'], row['lon'], res), axis=1)\n",
    "\n",
    "            for i, thred in enumerate(threshold_ls):\n",
    "                traceGDF['stationary_{}'.format(i+1)] = traceGDF[f'speed_{n}s'].apply(lambda x: 1 if x<thred else 0)\n",
    "            fulldf.append(traceGDF)\n",
    "        except:\n",
    "            continue\n",
    "    fulldf = pd.concat(fulldf).reset_index(drop = True)\n",
    "    return fulldf\n",
    "\n",
    "def get_geo(selvideogroup):\n",
    "    h3folderagg = '../../_data/05_tracking_result_projected/step5_h3_video_level'\n",
    "    h3geo = gpd.read_file(os.path.join(h3folderagg, f\"countdfsum_{res}.geojson\"))\n",
    "    h3geosel = h3geo[h3geo['video_group_update']==selvideogroup].reset_index(drop = True)\n",
    "    return h3geosel"
   ]
  },
  {
   "cell_type": "code",
   "execution_count": null,
   "metadata": {},
   "outputs": [],
   "source": [
    "stagingfolder = '../../_data/05_tracking_result_projected/step1_speed_vector'\n",
    "if not os.path.exists(stagingfolder):\n",
    "    os.makedirs(stagingfolder)\n",
    "\n",
    "# constant\n",
    "n = 1 # second threshold to compute speed, matching the historical videos\n",
    "res = 15\n"
   ]
  },
  {
   "cell_type": "code",
   "execution_count": null,
   "metadata": {},
   "outputs": [],
   "source": [
    "# only select the stationary moment, and count the number of unique stationary people per frame per h3\n",
    "# t = 3\n",
    "# selvideogroup = 'bryant_park-20081008-141944'\n",
    "# for selvideogroup in ['Met Steps videos (NEW)-20100612-120118']:\n",
    "#     traceGDF = get_alltrace(selvideogroup)\n",
    "#     h3geosel = get_geo(selvideogroup)\n",
    "#     if h3geosel.shape[0] == 0:\n",
    "#         print(\"load geometry unsuccessfully\")\n",
    "#         continue\n",
    "#     robusttest = []\n",
    "#     for t in [1,2,3,4,5]:\n",
    "#         st_gdf = traceGDF[traceGDF[f'stationary_{t}']==1].reset_index(drop = True)\n",
    "#         st_gdf_h3 = st_gdf.groupby(['frame_id', f'h3_{res}'])['track_id'].nunique().reset_index()\\\n",
    "#             .groupby(f'h3_{res}')['track_id'].mean().reset_index()\n",
    "#         st_gdf_h3 = st_gdf_h3.rename(columns = {'track_id': 'stationary_count_mean'})\n",
    "#         st_gdf_h3 = h3geosel.merge(st_gdf_h3, on = f'h3_{res}',  how = 'left').fillna(0)\n",
    "#         st_gdf_h3['log_stationary_count_mean'] = np.log(st_gdf_h3['stationary_count_mean']+1)\n",
    "#         st_gdf_h3['stationary_thred'] = t\n",
    "#         robusttest.append(st_gdf_h3)\n",
    "#     robusttest = pd.concat(robusttest).reset_index(drop = True)\n",
    "#     # st_gdf_h3.plot(figsize = (10,10), column = 'log_stationary_count_mean', legend = True)\n",
    "#     h3folderagg = '../../_data/05_tracking_result_projected/step5_h3_video_level'\n",
    "#     robusttest.to_file(os.path.join(h3folderagg, f\"{selvideogroup}_stationary_loc_robusttest_{res}.geojson\"), driver='GeoJSON')"
   ]
  },
  {
   "attachments": {},
   "cell_type": "markdown",
   "metadata": {},
   "source": [
    "# Plot speed distribution across location and time"
   ]
  },
  {
   "cell_type": "code",
   "execution_count": null,
   "metadata": {},
   "outputs": [],
   "source": [
    "# load all speed vector file\n",
    "# CURRENTLY USING lat lon directly, may need to change lat_moving\n",
    "fullDF = []\n",
    "for selvideogroup in videopath_sel['video_group_update'].unique():\n",
    "    # try:\n",
    "    temp = get_alltrace(selvideogroup)\n",
    "    temp['video_group_update'] = selvideogroup\n",
    "    fullDF.append(temp)\n",
    "    # except:\n",
    "    #     continue\n",
    "# fullDF = pd.concat(temp).reset_index(drop = True)"
   ]
  },
  {
   "cell_type": "code",
   "execution_count": null,
   "metadata": {},
   "outputs": [],
   "source": [
    "fullDF = pd.concat(fullDF).reset_index(drop = True)"
   ]
  },
  {
   "cell_type": "code",
   "execution_count": null,
   "metadata": {},
   "outputs": [],
   "source": [
    "fullDF['x_2263'].notna().sum()"
   ]
  },
  {
   "cell_type": "code",
   "execution_count": null,
   "metadata": {},
   "outputs": [],
   "source": [
    "selcols = [\n",
    "    'track_id', 'frame_id', 'score', 'side', 'glasses', 'hat',\n",
    "       'hold_objects_in_front', 'bag', 'upper', 'lower', 'boots', 'loc_x',\n",
    "       'loc_y', 'x_3857', 'y_3857', 'video_id', 'moving_x', 'moving_y', 'lat',\n",
    "       'lon', 'lat_moving', 'lon_moving', 'gender', 'age', 'second',\n",
    "       'timestamp', 'video_group', 'videoname', 'move_m_1s', 'speed_1s',\n",
    "       'dist_x_1s', 'dist_y_1s', 'speed_x_1s', 'speed_y_1s', 'video_location',\n",
    "       'geometry', 'h3_15', 'stationary_1', 'stationary_2', 'stationary_3',\n",
    "       'stationary_4', 'stationary_5', 'video_group_update'\n",
    "]"
   ]
  },
  {
   "cell_type": "code",
   "execution_count": null,
   "metadata": {},
   "outputs": [],
   "source": [
    "fullDF.columns"
   ]
  },
  {
   "cell_type": "code",
   "execution_count": null,
   "metadata": {},
   "outputs": [],
   "source": [
    "\n",
    "morningls = ['bryant_park-20081008-072238',\n",
    "             'Chestnut Street videos (NEW)-20100519-083343',\n",
    "             'Downtown Crossing videos (NEW)-20100521-074701',\n",
    "             'Met Steps videos (NEW)-20100612-082221'\n",
    "             ]\n",
    "noon = ['bryant_park-20081008-141944',\n",
    "             'Downtown Crossing videos (NEW)-20100521-115755',\n",
    "             'Met Steps videos (NEW)-20100612-120118'\n",
    "             ]\n",
    "colorset = {\n",
    "    'bryant_park-20081008-072238':\"#ef5c43\",\n",
    "             'Chestnut Street videos (NEW)-20100519-083343':\"#ffdda6\",\n",
    "             'Downtown Crossing videos (NEW)-20100521-074701': \"#3bc0cf\",\n",
    "             'Met Steps videos (NEW)-20100612-082221':\"#0c7cba\",\n",
    "          'bryant_park-20081008-141944':\"#ef5c43\",\n",
    "             'Downtown Crossing videos (NEW)-20100521-115755': \"#3bc0cf\",\n",
    "             'Met Steps videos (NEW)-20100612-120118' :\"#0c7cba\",  \n",
    "}\n",
    "labelset = {\n",
    "   'bryant_park-20081008-072238':\"Bryant Park\",\n",
    "             'Chestnut Street videos (NEW)-20100519-083343':\"Chestnut Street\",\n",
    "             'Downtown Crossing videos (NEW)-20100521-074701':\"Downtown Crossing\",\n",
    "             'Met Steps videos (NEW)-20100612-082221':\"MET\",\n",
    "          'bryant_park-20081008-141944':\"Bryant Park\",\n",
    "             'Downtown Crossing videos (NEW)-20100521-115755':\"Downtown Crossing\",\n",
    "             'Met Steps videos (NEW)-20100612-120118' :\"MET\", \n",
    "}\n",
    "\n",
    "data = fullDF[fullDF[f'speed_{n}s']<2].reset_index(drop = True) # filter out outlier speed"
   ]
  },
  {
   "cell_type": "code",
   "execution_count": null,
   "metadata": {},
   "outputs": [],
   "source": [
    "graphicfolder = \"../../_graphics/viz\""
   ]
  },
  {
   "cell_type": "code",
   "execution_count": null,
   "metadata": {},
   "outputs": [],
   "source": [
    "\n",
    "def get_hist_group(morningls, filename):\n",
    "    fig, ax = plt.subplots(figsize = (5,5))\n",
    "    for i, selvideogroup in enumerate(morningls):\n",
    "        temp = data[data['video_group_update']==selvideogroup].reset_index(drop = True)\n",
    "        sns.kdeplot(data = temp, \n",
    "                x = f'speed_{n}s',\n",
    "                ax = ax,\n",
    "                clip = (0, 2.5),\n",
    "                fill=True,\n",
    "                color = colorset[selvideogroup],\n",
    "                linewidth=0,\n",
    "                alpha = 0.5,\n",
    "                bw_adjust=5,\n",
    "                label = labelset[selvideogroup]\n",
    "                )\n",
    "\n",
    "    # move legend outside the plot\n",
    "    ax.legend(bbox_to_anchor=(1.05, 1), loc=2, borderaxespad=0.)\n",
    "    sns.despine()\n",
    "    plt.xlabel(\"Moving Speed of All Objects (m/s)\")\n",
    "    plt.ylabel(\"Density\")\n",
    "    fig.savefig(os.path.join(graphicfolder, \n",
    "                             f\"hist_{filename}.svg\"), \n",
    "                format = \"svg\", \n",
    "                dpi = 300, \n",
    "                bbox_inches = \"tight\")"
   ]
  },
  {
   "cell_type": "code",
   "execution_count": null,
   "metadata": {},
   "outputs": [],
   "source": [
    "get_hist_group(morningls, \"morning_moving_speed\")"
   ]
  },
  {
   "cell_type": "code",
   "execution_count": null,
   "metadata": {},
   "outputs": [],
   "source": [
    "get_hist_group(noon, \"noon_moving_speed\")"
   ]
  },
  {
   "cell_type": "code",
   "execution_count": null,
   "metadata": {},
   "outputs": [],
   "source": [
    "\n",
    "\n",
    "\n",
    "    \n",
    "get_hist_group(morningls, \"morning_moving_speed\")"
   ]
  },
  {
   "cell_type": "code",
   "execution_count": null,
   "metadata": {},
   "outputs": [],
   "source": [
    "get_hist_group(noon, \"noon_moving_speed\")"
   ]
  },
  {
   "cell_type": "code",
   "execution_count": null,
   "metadata": {},
   "outputs": [],
   "source": [
    "# conduct t-test between the two groups\n",
    "import scipy.stats as stats\n",
    "# compare Downtown crossing's morning and afternoon, only consider the moving people (speed >= 0.3)\n",
    "def get_ttest(location):\n",
    "    dt_moving = data[(data['video_group_update'].str.contains(location, case = False))&\\\n",
    "        (data['speed_2s']>=0.3)\n",
    "                    ].reset_index(drop = True)\n",
    "    dt_moving.groupby('video_group_update')['speed_2s'].describe()\n",
    "    dt_moving_morning = dt_moving[dt_moving['video_group_update'].isin(morningls)].reset_index(drop = True)\n",
    "    dt_moving_afternoon = dt_moving[dt_moving['video_group_update'].isin(noon)].reset_index(drop = True)\n",
    "    md = dt_moving_morning['speed_2s'].mean()-dt_moving_afternoon['speed_2s'].mean()\n",
    "    # compare the mean speed_2s of two group\n",
    "    result = stats.ttest_ind(dt_moving_morning['speed_2s'], dt_moving_afternoon['speed_2s'])\n",
    "    return result, md\n"
   ]
  },
  {
   "cell_type": "code",
   "execution_count": null,
   "metadata": {},
   "outputs": [],
   "source": [
    "t_ls = []\n",
    "rho_ls = []\n",
    "mean_ls = []\n",
    "locationls = [\"Downtown\", \n",
    "              'Bryant', \n",
    "              'MET']\n",
    "\n",
    "for location in locationls:\n",
    "    result, meandiff = get_ttest(location)\n",
    "    t_ls.append(result[0])\n",
    "    rho_ls.append(result[1])\n",
    "    mean_ls.append(meandiff)\n",
    "df = pd.DataFrame({'location':locationls, 't':t_ls, 'rho':rho_ls, 'mean_diff':mean_ls})\n",
    "df.head()"
   ]
  },
  {
   "cell_type": "code",
   "execution_count": null,
   "metadata": {},
   "outputs": [],
   "source": [
    "df.to_csv(os.path.join(graphicfolder, 'walking_speed_ttest.csv'), index = False)"
   ]
  },
  {
   "attachments": {},
   "cell_type": "markdown",
   "metadata": {},
   "source": [
    "## Compare the stationary rank between morning and noon"
   ]
  },
  {
   "cell_type": "code",
   "execution_count": null,
   "metadata": {},
   "outputs": [],
   "source": [
    "# reload the data\n",
    "res = 15\n",
    "allstationary = []\n",
    "for selvideogroup in videopath_sel['video_group_update'].unique():\n",
    "    try:\n",
    "        temp = gpd.read_file(os.path.join(h3folderagg, f\"{selvideogroup}_stationary_loc_robusttest_{res}.geojson\"))\n",
    "        temp['video_group_update'] = selvideogroup\n",
    "        allstationary.append(temp)\n",
    "    except:\n",
    "        continue"
   ]
  },
  {
   "cell_type": "code",
   "execution_count": null,
   "metadata": {},
   "outputs": [],
   "source": [
    "allstationary = pd.concat(allstationary).reset_index(drop = True)\n",
    "allstationary.head()"
   ]
  },
  {
   "cell_type": "code",
   "execution_count": null,
   "metadata": {},
   "outputs": [],
   "source": [
    "morningls = ['bryant_park-20081008-072238',\n",
    "             'Chestnut Street videos (NEW)-20100519-083343',\n",
    "             'Downtown Crossing videos (NEW)-20100521-074701',\n",
    "             'Met Steps videos (NEW)-20100612-082221'\n",
    "             ]"
   ]
  },
  {
   "cell_type": "code",
   "execution_count": null,
   "metadata": {},
   "outputs": [],
   "source": [
    "allstationary['timegroup'] = np.where(allstationary['video_group_update'].isin(morningls), \"morning\", \"noon\")\n",
    "allstationary.groupby('timegroup')['location'].unique()"
   ]
  },
  {
   "cell_type": "code",
   "execution_count": null,
   "metadata": {},
   "outputs": [],
   "source": [
    "wide = allstationary.pivot(columns = ['timegroup'],\n",
    "                    index = ['stationary_thred', 'location','h3_15'],\n",
    "                    values = 'stationary_count_mean').reset_index().dropna()\n",
    "wide[wide['stationary_thred']==5].head()"
   ]
  },
  {
   "cell_type": "code",
   "execution_count": null,
   "metadata": {},
   "outputs": [],
   "source": [
    "fig, ax = plt.subplots(figsize = (5,5))\n",
    "sns.scatterplot(data = wide[wide['stationary_thred']==3],\n",
    "                x = 'morning',\n",
    "                y = 'noon',\n",
    "                hue = 'location',\n",
    "                style='stationary_thred'\n",
    ")\n",
    "sns.despine()"
   ]
  },
  {
   "cell_type": "code",
   "execution_count": null,
   "metadata": {},
   "outputs": [],
   "source": [
    "data = allstationary[allstationary['stationary_thred']==3].reset_index(drop = True)\n",
    "data['stationary_rank'] = data.groupby('video_group_update')['stationary_count_mean'].rank(ascending = False)\n",
    "data['log_stationary_rank'] = np.log(data['stationary_rank'])\n",
    "data.head()"
   ]
  },
  {
   "cell_type": "code",
   "execution_count": null,
   "metadata": {},
   "outputs": [],
   "source": [
    "fig, ax = plt.subplots(figsize = (5,5))\n",
    "sns.scatterplot(data = data[data['stationary_count_mean']>0],\n",
    "           x ='log_stationary_count_mean',\n",
    "           y = 'log_stationary_rank',\n",
    "           hue = 'video_group_update',\n",
    ")\n",
    "sns.despine()\n",
    "# put legend outside the plot\n",
    "ax.legend(bbox_to_anchor=(1.05, 1), loc=2, borderaxespad=0.)\n",
    "ax.set_xlabel(\"Log of Stationary Count Per Frame\")\n",
    "ax.set_ylabel(\"Log of Rank of Stationary Count Per Frame\")"
   ]
  },
  {
   "cell_type": "code",
   "execution_count": null,
   "metadata": {},
   "outputs": [],
   "source": [
    "sns.kdeplot(data = allstationary[allstationary['stationary_thred']==3],\n",
    "            x = 'stationary_count_mean',\n",
    "            hue = 'video_group_update')"
   ]
  },
  {
   "attachments": {},
   "cell_type": "markdown",
   "metadata": {},
   "source": [
    "# Archived other"
   ]
  },
  {
   "cell_type": "code",
   "execution_count": null,
   "metadata": {},
   "outputs": [],
   "source": [
    "# import plotly.express as px\n",
    "\n",
    "# data =st_gdf_h3[st_gdf_h3['stationary_count_mean']>0].reset_index(drop = True)\n",
    "# fig = px.choropleth_mapbox(data, \n",
    "#                         # lat=\"centroid_y\", \n",
    "#                         # lon=\"centroid_x\", \n",
    "#                         geojson = data['geometry'],\n",
    "#                         locations = data.index,\n",
    "#                         hover_name=\"h3_15\",\n",
    "#                         color='log_stationary_count_mean',\n",
    "#                         # set stroke width to zero\n",
    "                        \n",
    "#                         # hover_data=[\"stationary_count_mean\"],\n",
    "#                         mapbox_style=\"carto-positron\",\n",
    "#                         color_continuous_scale='OrRd',\n",
    "#                         center = {\"lat\":data['centroid_y'].mean(),\n",
    "#                                   \"lon\":data['centroid_x'].mean()\n",
    "#                                       },\n",
    "#                         # color_discrete_sequence=[\"fuchsia\"], \n",
    "#                         zoom=18, \n",
    "#                         opacity=0.5,\n",
    "#                         labels={'log_stationary_count_mean':'Log(Stationary Count Mean)'}\n",
    "#                         # height=300\n",
    "#                         )\n",
    "# # fig.update_layout(mapbox_style=\"open-street-map\")\n",
    "# fig.update_layout(margin={\"r\":0,\"t\":0,\"l\":0,\"b\":0})\n",
    "# fig.show()"
   ]
  },
  {
   "cell_type": "code",
   "execution_count": null,
   "metadata": {},
   "outputs": [],
   "source": [
    "fig, ax = plt.subplots(figsize = (10,10))\n",
    "st_gdf_h3[st_gdf_h3['stationary_count_mean']>0].plot(ax = ax, \n",
    "                                                     column = 'log_stationary_count_mean', \n",
    "                                                     legend = True,\n",
    "                                                     colormap='OrRd')\n",
    "# turn off axis\n",
    "ax.axis('off')"
   ]
  },
  {
   "cell_type": "code",
   "execution_count": null,
   "metadata": {},
   "outputs": [],
   "source": [
    "import seaborn as sns\n",
    "fig, ax = plt.subplots(figsize = (5,5))\n",
    "sns.distplot(st_gdf_h3['log_stationary_count_mean'], ax = ax)\n",
    "sns.despine()"
   ]
  },
  {
   "cell_type": "code",
   "execution_count": null,
   "metadata": {},
   "outputs": [],
   "source": [
    "fig, ax = plt.subplots(figsize = (5,5))\n",
    "data = traceGDF[traceGDF['speed_2s']<3]\n",
    "sns.kdeplot(data = data, \n",
    "            x = 'speed_2s',\n",
    "            ax = ax,\n",
    "            clip = (0, 2.5),\n",
    "            fill=True,\n",
    "            linewidth=0,\n",
    "            alpha = 0.5,\n",
    "            bw_adjust=5,\n",
    "            )\n",
    "sns.despine()"
   ]
  },
  {
   "cell_type": "code",
   "execution_count": null,
   "metadata": {},
   "outputs": [],
   "source": [
    "plt.hist(traceGDF[traceGDF['speed_2s']<2.5]['speed_2s'], bins = 50)"
   ]
  },
  {
   "cell_type": "code",
   "execution_count": null,
   "metadata": {},
   "outputs": [],
   "source": []
  }
 ],
 "metadata": {
  "kernelspec": {
   "display_name": "geo38",
   "language": "python",
   "name": "python3"
  },
  "language_info": {
   "codemirror_mode": {
    "name": "ipython",
    "version": 3
   },
   "file_extension": ".py",
   "mimetype": "text/x-python",
   "name": "python",
   "nbconvert_exporter": "python",
   "pygments_lexer": "ipython3",
   "version": "3.8.13"
  },
  "orig_nbformat": 4
 },
 "nbformat": 4,
 "nbformat_minor": 2
}
